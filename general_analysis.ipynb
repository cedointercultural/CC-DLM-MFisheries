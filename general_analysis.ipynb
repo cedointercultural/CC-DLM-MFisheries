{
 "cells": [
  {
   "cell_type": "code",
   "execution_count": 5,
   "metadata": {},
   "outputs": [],
   "source": [
    "import pandas as pd"
   ]
  },
  {
   "cell_type": "code",
   "execution_count": 6,
   "metadata": {},
   "outputs": [],
   "source": [
    "df = pd.read_csv('resultado_unificado.csv')"
   ]
  },
  {
   "cell_type": "code",
   "execution_count": 8,
   "metadata": {},
   "outputs": [
    {
     "data": {
      "text/plain": [
       "array(['ALMEJA', 'ATUN', 'BANDERA', 'BAQUETA', 'BARRILETE', 'BERRUGATA',\n",
       "       'BONITO', 'CABRILLA', 'CALAMAR', 'CAMARON', 'CARACOL', 'CAZON',\n",
       "       'CHARAL', 'CORVINA', 'ERIZO', 'ESMEDREGAL', 'GUACHINANGO', 'JAIBA',\n",
       "       'JUREL', 'LANGOSTA', 'LEBRANCHA', 'LENGUADO', 'LISA', 'LOBINA',\n",
       "       'MERO', 'MOJARRA', 'OSTION', 'OTRAS', 'PAMPANO', 'PARGO', 'PIERNA',\n",
       "       'PULPO', 'RAYA Y SIMILARES', 'ROBALO', 'RONCO', 'SARDINA',\n",
       "       'SARGAZO', 'SIERRA', 'TIBURON'], dtype=object)"
      ]
     },
     "execution_count": 8,
     "metadata": {},
     "output_type": "execute_result"
    }
   ],
   "source": [
    "df['Especie'].unique()"
   ]
  },
  {
   "cell_type": "code",
   "execution_count": 9,
   "metadata": {},
   "outputs": [
    {
     "ename": "ModuleNotFoundError",
     "evalue": "No module named 'species_classifier'",
     "output_type": "error",
     "traceback": [
      "\u001b[1;31m---------------------------------------------------------------------------\u001b[0m",
      "\u001b[1;31mModuleNotFoundError\u001b[0m                       Traceback (most recent call last)",
      "Cell \u001b[1;32mIn[9], line 1\u001b[0m\n\u001b[1;32m----> 1\u001b[0m \u001b[38;5;28;01mfrom\u001b[39;00m \u001b[38;5;21;01mspecies_classifier\u001b[39;00m \u001b[38;5;28;01mimport\u001b[39;00m classify_species\n\u001b[0;32m      3\u001b[0m \u001b[38;5;66;03m# Define el diccionario de hábitats\u001b[39;00m\n\u001b[0;32m      4\u001b[0m habitat_groups \u001b[38;5;241m=\u001b[39m {\n\u001b[0;32m      5\u001b[0m     \u001b[38;5;124m'\u001b[39m\u001b[38;5;124mALMEJA\u001b[39m\u001b[38;5;124m'\u001b[39m: \u001b[38;5;124m'\u001b[39m\u001b[38;5;124mBentónicas\u001b[39m\u001b[38;5;124m'\u001b[39m,\n\u001b[0;32m      6\u001b[0m     \u001b[38;5;124m'\u001b[39m\u001b[38;5;124mCAMARON\u001b[39m\u001b[38;5;124m'\u001b[39m: \u001b[38;5;124m'\u001b[39m\u001b[38;5;124mBentónicas\u001b[39m\u001b[38;5;124m'\u001b[39m,\n\u001b[1;32m   (...)\u001b[0m\n\u001b[0;32m     40\u001b[0m     \u001b[38;5;124m'\u001b[39m\u001b[38;5;124mOTRAS\u001b[39m\u001b[38;5;124m'\u001b[39m: \u001b[38;5;124m'\u001b[39m\u001b[38;5;124mOtras\u001b[39m\u001b[38;5;124m'\u001b[39m\n\u001b[0;32m     41\u001b[0m }\n",
      "\u001b[1;31mModuleNotFoundError\u001b[0m: No module named 'species_classifier'"
     ]
    }
   ],
   "source": [
    "from species_classifier import classify_species\n",
    "\n",
    "# Define el diccionario de hábitats\n",
    "habitat_groups = {\n",
    "    'ALMEJA': 'Bentónicas',\n",
    "    'CAMARON': 'Bentónicas',\n",
    "    'JAIBA': 'Bentónicas',\n",
    "    'CARACOL': 'Bentónicas',\n",
    "    'LANGOSTA': 'Bentónicas',\n",
    "    'PULPO': 'Bentónicas',\n",
    "    'RAYA Y SIMILARES': 'Bentónicas',\n",
    "    'ERIZO': 'Bentónicas',\n",
    "    'OSTION': 'Bentónicas',\n",
    "    'ATUN': 'Pelágicas',\n",
    "    'BARRILETE': 'Pelágicas',\n",
    "    'BONITO': 'Pelágicas',\n",
    "    'JUREL': 'Pelágicas',\n",
    "    'PAMPANO': 'Pelágicas',\n",
    "    'SIERRA': 'Pelágicas',\n",
    "    'SARDINA': 'Pelágicas',\n",
    "    'CABRILLA': 'Arrecifes',\n",
    "    'MERO': 'Arrecifes',\n",
    "    'GUACHINANGO': 'Arrecifes',\n",
    "    'TIBURON': 'Pelágicas',\n",
    "    'BAQUETA': 'Arrecifes',\n",
    "    'ESMEDREGAL': 'Arrecifes',\n",
    "    'LEBRANCHA': 'Costeras',\n",
    "    'LISA': 'Costeras',\n",
    "    'MOJARRA': 'Costeras',\n",
    "    'ROBALO': 'Costeras',\n",
    "    'CORVINA': 'Costeras',\n",
    "    'CHARAL': 'Costeras',\n",
    "    'SARGAZO': 'Otras',\n",
    "    'BANDERA': 'Costeras',\n",
    "    'LENGUADO': 'Otras',\n",
    "    'PARGO': 'Arrecifes',\n",
    "    'PIERNA': 'Arrecifes',\n",
    "    'RONCO': 'Arrecifes',\n",
    "    'LOBINA': 'Otras',\n",
    "    'OTRAS': 'Otras'\n",
    "}\n",
    "\n",
    "# Ruta al archivo con datos de especies\n",
    "file_path = 'resultado_unificado.csv'\n",
    "\n",
    "# Llamar a la función\n",
    "classified_data = classify_species(file_path, habitat_groups, output_path='classified_species_output.csv')"
   ]
  }
 ],
 "metadata": {
  "kernelspec": {
   "display_name": "Pro24",
   "language": "python",
   "name": "python3"
  },
  "language_info": {
   "codemirror_mode": {
    "name": "ipython",
    "version": 3
   },
   "file_extension": ".py",
   "mimetype": "text/x-python",
   "name": "python",
   "nbconvert_exporter": "python",
   "pygments_lexer": "ipython3",
   "version": "3.11.7"
  }
 },
 "nbformat": 4,
 "nbformat_minor": 2
}
