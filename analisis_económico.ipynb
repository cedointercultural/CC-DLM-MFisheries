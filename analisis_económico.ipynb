{
 "cells": [
  {
   "cell_type": "code",
   "execution_count": 1,
   "metadata": {},
   "outputs": [],
   "source": [
    "import pandas as pd\n",
    "from scripts.species_classifier import classify_species\n",
    "\n",
    "\n",
    "habitat_groups = {\n",
    "    # Benthic invertebrates\n",
    "    'ALMEJA': 'Benthic invertebrates',\n",
    "    'CAMARON': 'Benthic invertebrates',\n",
    "    'JAIBA': 'Benthic invertebrates',\n",
    "    'CARACOL': 'Benthic invertebrates',\n",
    "    'LANGOSTA': 'Benthic invertebrates',\n",
    "    'PULPO': 'Benthic invertebrates',\n",
    "    'ERIZO': 'Benthic invertebrates',\n",
    "    'OSTION': 'Benthic invertebrates',\n",
    "    'PEPINO DE MAR': 'Benthic invertebrates',\n",
    "    'ABULON': 'Benthic invertebrates',\n",
    "    \n",
    "    # Pelagic fish\n",
    "    'ATUN': 'Pelagic fish',\n",
    "    'BARRILETE': 'Pelagic fish',\n",
    "    'BONITO': 'Pelagic fish',\n",
    "    'JUREL': 'Pelagic fish',\n",
    "    'PAMPANO': 'Pelagic fish',\n",
    "    'SIERRA': 'Pelagic fish',\n",
    "    'SARDINA': 'Pelagic fish',\n",
    "    'TIBURON': 'Pelagic fish',\n",
    "    \n",
    "    # Demersal fish\n",
    "    'BERRUGATA': 'Demersal fish',\n",
    "    'MERO': 'Demersal fish',\n",
    "    'BAQUETA': 'Demersal fish',\n",
    "    'CORVINA': 'Demersal fish',\n",
    "    \n",
    "    # Benthopelagic fish\n",
    "    'LOBINA': 'Benthopelagic fish',\n",
    "    'RONCO': 'Benthopelagic fish',\n",
    "    'LISA': 'Benthopelagic fish',\n",
    "    'MOJARRA': 'Benthopelagic fish',\n",
    "    'BANDERA': 'Benthopelagic fish',\n",
    "    \n",
    "    # Reef fish\n",
    "    'CABRILLA': 'Reef fish',\n",
    "    'HUACHINANGO': 'Reef fish',\n",
    "    'ESMEDREGAL': 'Reef fish',\n",
    "    'PARGO': 'Reef fish',\n",
    "    'PIERNA': 'Reef fish',\n",
    "    'RUBIA': 'Reef fish',\n",
    "    'VILLAJAIBA': 'Reef fish',\n",
    "    'ROBALO': 'Reef fish',\n",
    "    \n",
    "    # Benthic fish\n",
    "    'LENGUADO': 'Benthic fish',\n",
    "    'RAYA Y SIMILARES': 'Benthic fish',\n",
    "    \n",
    "    # Other\n",
    "    'SARGAZO': 'Other',\n",
    "    'OTRAS': 'Other'\n",
    "}\n",
    "\n"
   ]
  },
  {
   "cell_type": "code",
   "execution_count": 2,
   "metadata": {},
   "outputs": [
    {
     "name": "stdout",
     "output_type": "stream",
     "text": [
      "Archivo clasificado guardado en: historic_catches.csv\n"
     ]
    }
   ],
   "source": [
    "# Ruta al archivo con datos de especies\n",
    "file_path = 'data/data.csv'\n",
    "\n",
    "# Llamar a la función\n",
    "classified_data = classify_species(file_path, habitat_groups, output_path='historic_catches.csv')"
   ]
  },
  {
   "cell_type": "code",
   "execution_count": 4,
   "metadata": {},
   "outputs": [
    {
     "data": {
      "text/plain": [
       "Index(['year', 'month_no', 'month', 'rnp_code', 'NOM_LOC', 'NOM_ENT',\n",
       "       'fishery_office', 'species', 'landed_w_kg', 'value_mxn', 'OBJECTID',\n",
       "       'Id', 'Shape_Leng', 'Shape_Area', 'catch_id', 'Cluster_Label',\n",
       "       'geometry', 'deci_lon', 'deci_lat', 'cluster', 'date', 'mean_temp_30m',\n",
       "       'mean_temp_10m', 'thetao_sfc=6', 'thetao_sfc=7.92956018447876',\n",
       "       'thetao_sfc=9.572997093200684', 'thetao_sfc=11.40499973297119',\n",
       "       'thetao_sfc=13.46714019775391', 'thetao_sfc=15.8100700378418',\n",
       "       'thetao_sfc=18.49555969238281', 'thetao_sfc=21.59881973266602',\n",
       "       'thetao_sfc=25.21141052246094', 'thetao_sfc=29.44473075866699',\n",
       "       'habitat'],\n",
       "      dtype='object')"
      ]
     },
     "execution_count": 4,
     "metadata": {},
     "output_type": "execute_result"
    }
   ],
   "source": [
    "classified_data.columns"
   ]
  },
  {
   "cell_type": "code",
   "execution_count": 6,
   "metadata": {},
   "outputs": [
    {
     "name": "stdout",
     "output_type": "stream",
     "text": [
      "    Cluster_Label                habitat     value_mxn\n",
      "0               0           Benthic fish  8.480400e+05\n",
      "1               0  Benthic invertebrates  7.281206e+07\n",
      "2               0     Benthopelagic fish  6.235792e+06\n",
      "3               0          Demersal fish  7.367860e+05\n",
      "4               0                  Other  2.877139e+06\n",
      "5               0           Pelagic fish  2.106435e+06\n",
      "6               0              Reef fish  3.370395e+06\n",
      "7               1           Benthic fish  2.032180e+08\n",
      "8               1  Benthic invertebrates  7.628790e+09\n",
      "9               1     Benthopelagic fish  2.912140e+08\n",
      "10              1          Demersal fish  4.358929e+08\n",
      "11              1                  Other  3.808265e+08\n",
      "12              1           Pelagic fish  6.260159e+08\n",
      "13              1              Reef fish  3.950413e+08\n",
      "14              2           Benthic fish  5.689890e+05\n",
      "15              2  Benthic invertebrates  8.290374e+06\n",
      "16              2     Benthopelagic fish  1.284247e+08\n",
      "17              2          Demersal fish  8.625840e+05\n",
      "18              2                  Other  1.634716e+06\n",
      "19              2           Pelagic fish  1.122605e+06\n",
      "20              2              Reef fish  4.574700e+05\n",
      "21              3           Benthic fish  7.825701e+07\n",
      "22              3  Benthic invertebrates  3.310374e+09\n",
      "23              3     Benthopelagic fish  2.943631e+08\n",
      "24              3          Demersal fish  5.774302e+08\n",
      "25              3                  Other  2.422712e+08\n",
      "26              3           Pelagic fish  3.884596e+08\n",
      "27              3              Reef fish  5.299068e+08\n",
      "28              4           Benthic fish  8.591065e+05\n",
      "29              4  Benthic invertebrates  1.523153e+08\n",
      "30              4     Benthopelagic fish  1.186994e+06\n",
      "31              4          Demersal fish  4.523841e+06\n",
      "32              4                  Other  2.826919e+06\n",
      "33              4           Pelagic fish  3.882658e+06\n",
      "34              4              Reef fish  2.478653e+06\n",
      "35              5           Benthic fish  1.153106e+07\n",
      "36              5  Benthic invertebrates  2.850291e+08\n",
      "37              5     Benthopelagic fish  5.972550e+05\n",
      "38              5          Demersal fish  3.597066e+08\n",
      "39              5                  Other  5.264063e+08\n",
      "40              5           Pelagic fish  1.176694e+08\n",
      "41              5              Reef fish  1.001350e+06\n",
      "42              6           Benthic fish  4.064428e+08\n",
      "43              6  Benthic invertebrates  2.825803e+09\n",
      "44              6     Benthopelagic fish  1.306825e+07\n",
      "45              6          Demersal fish  6.952724e+08\n",
      "46              6                  Other  4.739620e+08\n",
      "47              6           Pelagic fish  5.810964e+08\n",
      "48              6              Reef fish  2.626892e+08\n",
      "49              7           Benthic fish  1.851337e+07\n",
      "50              7  Benthic invertebrates  7.027874e+08\n",
      "51              7     Benthopelagic fish  8.139983e+08\n",
      "52              7          Demersal fish  1.218788e+08\n",
      "53              7                  Other  1.561268e+08\n",
      "54              7           Pelagic fish  2.454119e+08\n",
      "55              7              Reef fish  3.463223e+08\n"
     ]
    }
   ],
   "source": [
    "# Group by Cluster_Label and habitat, then sum the value_mxn\n",
    "summary_table = classified_data.groupby(['Cluster_Label', 'habitat'])['value_mxn'].sum().reset_index()\n",
    "\n",
    "# Display the summary table\n",
    "print(summary_table)\n",
    "summary_table.to_csv('summary_table.csv', index=False)"
   ]
  },
  {
   "cell_type": "code",
   "execution_count": null,
   "metadata": {},
   "outputs": [],
   "source": []
  },
  {
   "cell_type": "code",
   "execution_count": null,
   "metadata": {},
   "outputs": [],
   "source": []
  },
  {
   "cell_type": "code",
   "execution_count": null,
   "metadata": {},
   "outputs": [],
   "source": []
  }
 ],
 "metadata": {
  "kernelspec": {
   "display_name": "Pro24",
   "language": "python",
   "name": "python3"
  },
  "language_info": {
   "codemirror_mode": {
    "name": "ipython",
    "version": 3
   },
   "file_extension": ".py",
   "mimetype": "text/x-python",
   "name": "python",
   "nbconvert_exporter": "python",
   "pygments_lexer": "ipython3",
   "version": "3.11.7"
  }
 },
 "nbformat": 4,
 "nbformat_minor": 2
}
