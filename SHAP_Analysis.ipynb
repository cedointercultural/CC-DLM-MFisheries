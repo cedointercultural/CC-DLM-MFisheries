{
 "cells": [
  {
   "cell_type": "markdown",
   "metadata": {},
   "source": [
    "# SHAP analysis for the feauters in the MoE models for each fishing region. \n",
    "\n",
    "We want to answer the following questions:\n",
    "* Can we group the species by their results of SHAP analisys?\n",
    "* Is there ecological relation betwen species in groups and their most important feature?"
   ]
  },
  {
   "cell_type": "code",
   "execution_count": null,
   "metadata": {},
   "outputs": [],
   "source": [
    "import pandas as pd\n",
    "\n",
    "# Carga el DataFrame con los datos futuros\n",
    "future_data = pd.read_csv('future_data.csv')"
   ]
  },
  {
   "cell_type": "code",
   "execution_count": null,
   "metadata": {},
   "outputs": [],
   "source": [
    "from scripts.shap_analysis import prepare_future_data, run_shap_analysis, evaluate_all_models\n",
    "\n",
    "# Ruta de la carpeta de modelos y del archivo de datos futuros\n",
    "models_folder = 'modelos_moe'\n",
    "future_data_file = 'future_data.csv'\n",
    "\n",
    "# Evalúa todos los modelos y genera un DataFrame con los resultados\n",
    "shap_df = evaluate_all_models(\n",
    "    models_folder=models_folder,\n",
    "    future_data_file=future_data_file,\n",
    "    shap_analysis_function=run_shap_analysis\n",
    ")\n",
    "\n",
    "\n",
    "# Muestra los resultados\n",
    "print(shap_df.head())"
   ]
  },
  {
   "cell_type": "code",
   "execution_count": null,
   "metadata": {},
   "outputs": [],
   "source": []
  }
 ],
 "metadata": {
  "kernelspec": {
   "display_name": "Pro24",
   "language": "python",
   "name": "python3"
  },
  "language_info": {
   "codemirror_mode": {
    "name": "ipython",
    "version": 3
   },
   "file_extension": ".py",
   "mimetype": "text/x-python",
   "name": "python",
   "nbconvert_exporter": "python",
   "pygments_lexer": "ipython3",
   "version": "3.11.7"
  }
 },
 "nbformat": 4,
 "nbformat_minor": 2
}
